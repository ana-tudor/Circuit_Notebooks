{
 "cells": [
  {
   "cell_type": "code",
   "execution_count": 1,
   "metadata": {},
   "outputs": [
    {
     "name": "stderr",
     "output_type": "stream",
     "text": [
      "/home/ana-tudor/quantum/lib64/python3.6/importlib/_bootstrap.py:219: RuntimeWarning: numpy.dtype size changed, may indicate binary incompatibility. Expected 96, got 88\n",
      "  return f(*args, **kwds)\n",
      "/home/ana-tudor/quantum/lib64/python3.6/importlib/_bootstrap.py:219: RuntimeWarning: numpy.dtype size changed, may indicate binary incompatibility. Expected 96, got 88\n",
      "  return f(*args, **kwds)\n"
     ]
    },
    {
     "ename": "ModuleNotFoundError",
     "evalue": "No module named 'obj_function'",
     "output_type": "error",
     "traceback": [
      "\u001b[0;31m---------------------------------------------------------------------------\u001b[0m",
      "\u001b[0;31mModuleNotFoundError\u001b[0m                       Traceback (most recent call last)",
      "\u001b[0;32m<ipython-input-1-ec1cb3476275>\u001b[0m in \u001b[0;36m<module>\u001b[0;34m()\u001b[0m\n\u001b[1;32m      2\u001b[0m \u001b[0;32mimport\u001b[0m \u001b[0mpandas\u001b[0m \u001b[0;32mas\u001b[0m \u001b[0mpd\u001b[0m\u001b[0;34m\u001b[0m\u001b[0m\n\u001b[1;32m      3\u001b[0m \u001b[0;32mimport\u001b[0m \u001b[0mpylab\u001b[0m\u001b[0;34m\u001b[0m\u001b[0m\n\u001b[0;32m----> 4\u001b[0;31m \u001b[0;32mfrom\u001b[0m \u001b[0mobj_function\u001b[0m \u001b[0;32mimport\u001b[0m \u001b[0menergy_objective\u001b[0m\u001b[0;34m,\u001b[0m \u001b[0muccsd_singlet_paramsize\u001b[0m\u001b[0;34m\u001b[0m\u001b[0m\n\u001b[0m",
      "\u001b[0;31mModuleNotFoundError\u001b[0m: No module named 'obj_function'"
     ]
    }
   ],
   "source": [
    "import numpy as np\n",
    "import pandas as pd\n",
    "import pylab\n",
    "from obj_function import energy_objective, uccsd_singlet_paramsize\n",
    "\n",
    "import sys\n",
    "#May need to link to scikit-quant/python location\n",
    "from skquant.opt.imfil import imfil, optset\n"
   ]
  },
  {
   "cell_type": "code",
   "execution_count": 2,
   "metadata": {},
   "outputs": [
    {
     "ename": "NameError",
     "evalue": "name 'uccsd_singlet_paramsize' is not defined",
     "output_type": "error",
     "traceback": [
      "\u001b[0;31m---------------------------------------------------------------------------\u001b[0m",
      "\u001b[0;31mNameError\u001b[0m                                 Traceback (most recent call last)",
      "\u001b[0;32m<ipython-input-2-399e1342ca73>\u001b[0m in \u001b[0;36m<module>\u001b[0;34m()\u001b[0m\n\u001b[1;32m     24\u001b[0m         \u001b[0mnp\u001b[0m\u001b[0;34m.\u001b[0m\u001b[0msavetxt\u001b[0m\u001b[0;34m(\u001b[0m\u001b[0mf\u001b[0m\u001b[0;34m,\u001b[0m \u001b[0mresults\u001b[0m\u001b[0;34m)\u001b[0m\u001b[0;34m\u001b[0m\u001b[0m\n\u001b[1;32m     25\u001b[0m \u001b[0;34m\u001b[0m\u001b[0m\n\u001b[0;32m---> 26\u001b[0;31m \u001b[0mgenerate_input_amps\u001b[0m\u001b[0;34m(\u001b[0m\u001b[0;34m)\u001b[0m\u001b[0;34m\u001b[0m\u001b[0m\n\u001b[0m",
      "\u001b[0;32m<ipython-input-2-399e1342ca73>\u001b[0m in \u001b[0;36mgenerate_input_amps\u001b[0;34m()\u001b[0m\n\u001b[1;32m     14\u001b[0m \u001b[0;34m\u001b[0m\u001b[0m\n\u001b[1;32m     15\u001b[0m     \u001b[0;32mfor\u001b[0m \u001b[0mi\u001b[0m \u001b[0;32min\u001b[0m \u001b[0mrange\u001b[0m\u001b[0;34m(\u001b[0m\u001b[0;36m30\u001b[0m\u001b[0;34m)\u001b[0m\u001b[0;34m:\u001b[0m\u001b[0;34m\u001b[0m\u001b[0m\n\u001b[0;32m---> 16\u001b[0;31m         \u001b[0mn_amplitudes\u001b[0m \u001b[0;34m=\u001b[0m \u001b[0mint\u001b[0m\u001b[0;34m(\u001b[0m\u001b[0muccsd_singlet_paramsize\u001b[0m\u001b[0;34m(\u001b[0m\u001b[0mactive_qubits\u001b[0m\u001b[0;34m,\u001b[0m \u001b[0mactive_electrons\u001b[0m\u001b[0;34m)\u001b[0m\u001b[0;34m)\u001b[0m\u001b[0;34m\u001b[0m\u001b[0m\n\u001b[0m\u001b[1;32m     17\u001b[0m         \u001b[0mcurrent_amplitudes\u001b[0m \u001b[0;34m=\u001b[0m \u001b[0;34m[\u001b[0m\u001b[0;36m0.0\u001b[0m\u001b[0;34m]\u001b[0m \u001b[0;34m*\u001b[0m \u001b[0mn_amplitudes\u001b[0m \u001b[0;34m+\u001b[0m \u001b[0;36m.002\u001b[0m \u001b[0;34m*\u001b[0m \u001b[0mnp\u001b[0m\u001b[0;34m.\u001b[0m\u001b[0mrandom\u001b[0m\u001b[0;34m.\u001b[0m\u001b[0mrandn\u001b[0m\u001b[0;34m(\u001b[0m\u001b[0mn_amplitudes\u001b[0m\u001b[0;34m)\u001b[0m\u001b[0;34m\u001b[0m\u001b[0m\n\u001b[1;32m     18\u001b[0m         \u001b[0mcurrent_amplitudes\u001b[0m \u001b[0;34m=\u001b[0m \u001b[0mcurrent_amplitudes\u001b[0m \u001b[0;34m/\u001b[0m \u001b[0mnp\u001b[0m\u001b[0;34m.\u001b[0m\u001b[0mlinalg\u001b[0m\u001b[0;34m.\u001b[0m\u001b[0mnorm\u001b[0m\u001b[0;34m(\u001b[0m\u001b[0mcurrent_amplitudes\u001b[0m\u001b[0;34m)\u001b[0m\u001b[0;34m\u001b[0m\u001b[0m\n",
      "\u001b[0;31mNameError\u001b[0m: name 'uccsd_singlet_paramsize' is not defined"
     ]
    }
   ],
   "source": [
    "def generate_input_amps(num):\n",
    "    original_electrons = 16\n",
    "    n_electrons = 2\n",
    "    n_orbitals = 2\n",
    "\n",
    "    occupied_indices = range(8 - n_electrons // 2)\n",
    "    active_indices = range(8 - n_electrons // 2, 8 - n_electrons // 2 + n_orbitals)\n",
    "    active_electrons = original_electrons - len(occupied_indices) * 2\n",
    "    active_qubits = len(active_indices) * 2\n",
    "    \n",
    "    results = []\n",
    "        \n",
    "    for i in range(num):\n",
    "        n_amplitudes = int(uccsd_singlet_paramsize(active_qubits, active_electrons))\n",
    "        current_amplitudes = [0.0] * n_amplitudes + .002 * np.random.randn(n_amplitudes)\n",
    "        current_amplitudes = current_amplitudes / np.linalg.norm(current_amplitudes)\n",
    "        results.append(current_amplitudes)\n",
    "        \n",
    "    return results\n",
    "        "
   ]
  },
  {
   "cell_type": "code",
   "execution_count": null,
   "metadata": {},
   "outputs": [],
   "source": [
    "init_params = generate_input_params(20)\n",
    "noises = [0.0, 0.00005, .002]\n",
    "bounds = numpy.matrix([[-1., 1.], [-1., 1.], [-1., 1.], [-1., 1.], \n",
    "                   [-1., 1.], [-1., 1.], [-1., 1.], [-1., 1.],\n",
    "                   [-1., 1.], [-1., 1.], [-1., 1.], [-1., 1.],\n",
    "                   [-1., 1.], [-1., 1.], [-1., 1.], [-1., 1.]])\n",
    "budget = 80\n",
    "\n",
    "results = {}\n",
    "for noise in noises:\n",
    "    results['{}_init_params'.format(noise)] = []\n",
    "    results['{}_fin_params'.format(noise)] = []\n",
    "    results['{}_iters'.format(noise)] = []\n",
    "    results['{}_fin_energy'.format(noise)] = []\n",
    "\n",
    "optout = optset()\n",
    "optout = optset(optout, random_stencil=2)\n",
    "optout = optset(optout, fscale=-1.1)\n",
    "\n",
    "print(optout)\n"
   ]
  },
  {
   "cell_type": "code",
   "execution_count": null,
   "metadata": {},
   "outputs": [],
   "source": [
    "for noise in noises:\n",
    "    #Setting noise for ethylene notebooks will be different\n",
    "    \n",
    "    for x in init_params:\n",
    "        \n",
    "        print(\"RUNNING PARAMETER\")\n",
    "        for ext_iter in range(3):\n",
    "            print(\"RUNNING ITERATION \", ext_iter)\n",
    "            optout = optset(optout, svarmin=noise)\n",
    "            \n",
    "            x, histout= imfil(x0, energy_objective, budget, bounds, optout)\n",
    "            results['{}_init_param'.format(noise)].append(param)\n",
    "            results['{}_fin_param'.format(noise)].append(x)\n",
    "            results['{}_iters'.format(noise)].append(ext_iter)\n",
    "#             print(x)\n",
    "#             print(histout)\n",
    "            \n",
    "            \n",
    "        \n",
    "print(results)\n",
    "\n",
    "print(\"FINISHED\")"
   ]
  },
  {
   "cell_type": "code",
   "execution_count": null,
   "metadata": {},
   "outputs": [],
   "source": [
    "def optimal_value(y):\n",
    "    return min(y)\n",
    "\n",
    "def absolute_error(fvalue):\n",
    "    global target\n",
    "    return numpy.abs(fvalue - target)\n",
    "\n",
    "    \n",
    "def gen_plot(x,y):\n",
    "    fig = pylab.figure(figsize=(6,3))\n",
    "    pylab.plot(x,y, 'ro')\n",
    "\n",
    "    \n",
    "def errors(y_list):\n",
    "    return [absolute_error(y) for y in y_list]\n",
    "\n",
    "\n",
    "def relative_errors(y_list):\n",
    "    minim = optimal_value(y_list)\n",
    "    print(y_list)\n",
    "    print(minim)\n",
    "    return [numpy.abs(minim-y) for y in y_list]\n",
    "    \n",
    "    \n",
    "def gen_error_plot(iters, fvals):\n",
    "    gen_plot(iters,relative_errors(fvals))\n",
    "    pylab.ylabel('Error')\n",
    "    pylab.xlabel('External iteration')\n",
    "    pylab.title('Error varying by external iterations')\n",
    "\n",
    "    \n",
    "def gen_fvalue_vs_iters(iters,fval):\n",
    "    gen_plot(iters, fval)\n",
    "    pylab.xlabel('Iteration')\n",
    "    pylab.ylabel('Function values')\n",
    "    pylab.title('Function values varying by number of iterations')\n",
    "    \n",
    "def gen_fvalue_vs_params(cols, y_list):\n",
    "    for i in range(len(cols)):\n",
    "        fig = pylab.figure(figsize=(4,3))\n",
    "        pylab.plot(cols[i], y_list, 'ro')\n",
    "        pylab.xlabel('Parameter ' + str(i))\n",
    "        pylab.ylabel('Function values')\n",
    "        pylab.title('Function values versus param 1')\n",
    "    \n",
    "           \n",
    "def cal_fin_energies(param_list):\n",
    "    return []\n",
    "\n",
    "def display_data(res, n):\n",
    "    global noise\n",
    "    noise = n\n",
    "    iters = res['{}_iters'.format(noise)]\n",
    "    fin_param = res['{}_fin_param'.format(noise)]\n",
    "    params = [[x[i].item(0,0) for x in fin_param] for i in range(len(fin_param))]\n",
    "    param1 = [x[0].item(0,0) for x in fin_param]\n",
    "    fin_energies = [energy_objective(param) for param in fin_param]\n",
    "    \n",
    "    gen_fvalue_vs_params(params, fin_energies)\n",
    "    \n",
    "    gen_fvalue_vs_iters(iters, fin_energies)\n",
    "    \n",
    "    gen_error_plot(iters, fin_energies)\n",
    "    \n"
   ]
  }
 ],
 "metadata": {
  "kernelspec": {
   "display_name": "Python 3",
   "language": "python",
   "name": "python3"
  },
  "language_info": {
   "codemirror_mode": {
    "name": "ipython",
    "version": 3
   },
   "file_extension": ".py",
   "mimetype": "text/x-python",
   "name": "python",
   "nbconvert_exporter": "python",
   "pygments_lexer": "ipython3",
   "version": "3.6.5"
  }
 },
 "nbformat": 4,
 "nbformat_minor": 2
}
