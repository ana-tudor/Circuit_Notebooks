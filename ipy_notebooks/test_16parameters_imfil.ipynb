{
 "cells": [
  {
   "cell_type": "code",
   "execution_count": 1,
   "metadata": {},
   "outputs": [
    {
     "name": "stderr",
     "output_type": "stream",
     "text": [
      "/home/ana-tudor/quantum/lib64/python3.6/importlib/_bootstrap.py:219: RuntimeWarning: numpy.dtype size changed, may indicate binary incompatibility. Expected 96, got 88\n",
      "  return f(*args, **kwds)\n"
     ]
    }
   ],
   "source": [
    "import itertools\n",
    "import os\n",
    "import time\n",
    "\n",
    "import numpy as np\n",
    "import matplotlib.pyplot as plt\n",
    "import pandas as pd\n",
    "import pylab\n",
    "\n",
    "import cirq\n",
    "import openfermion\n",
    "import openfermioncirq as ofc\n",
    "from openfermioncirq.optimization import OptimizationParams, ScipyOptimizationAlgorithm\n",
    "from openfermionpyscf import run_pyscf"
   ]
  },
  {
   "cell_type": "code",
   "execution_count": null,
   "metadata": {},
   "outputs": [],
   "source": [
    "def generate_input_params():\n",
    "    bounds = [1,1,1,1,2,1,2,1,2,1,2,1,2,1,2,1]\n",
    "    name = \"imfil/16_params_init.txt\"\n",
    "    \n",
    "    results = []\n",
    "        \n",
    "    for i in range(30):\n",
    "        result = [(np.random.rand(1)*i-i/2).tolist()[0] for i in bounds]\n",
    "        print(result)\n",
    "        results.append(np.array(result))\n",
    "        \n",
    "        \n",
    "    with open(name, 'wb') as f:\n",
    "#         fmt='%d %d %d %d %d %d %d %d %d %d %d %d %d %d %d %d'\n",
    "        np.savetxt(f, results, fmt='%s')\n",
    "        \n",
    "generate_input_params()"
   ]
  },
  {
   "cell_type": "code",
   "execution_count": 3,
   "metadata": {},
   "outputs": [],
   "source": [
    "# Functions for generating molecular Hamiltonians\n",
    "# -----------------------------------------------\n",
    "\n",
    "def h2_geometry(bond_length):\n",
    "    return [\n",
    "        ('H', (0.0, 0.0, 0.0)),\n",
    "        ('H', (0.0, 0.0, bond_length))\n",
    "    ]\n",
    "\n",
    "\n",
    "def n2_geometry(bond_length):\n",
    "    return [\n",
    "        ('N', (0.0, 0.0, 0.0)),\n",
    "        ('N', (0.0, 0.0, bond_length))\n",
    "    ]\n",
    "\n",
    "\n",
    "def h2o_geometry(bond_length):\n",
    "    bond_angle = numpy.pi * 104.5 / 180  # 104.5 degrees\n",
    "    a = bond_length * numpy.cos(bond_angle / 2.0)\n",
    "    b = bond_length * numpy.sin(bond_angle / 2.0)\n",
    "    return [\n",
    "        ('H', (a, b, 0.0)),\n",
    "        ('H', (a, -b, 0.0)),\n",
    "        ('O', (0.0, 0.0, 0.0))\n",
    "    ]\n",
    "\n",
    "\n",
    "def generate_molecular_hamiltonian(geometry,\n",
    "                                   n_active_electrons,\n",
    "                                   n_active_orbitals,\n",
    "                                   basis='cc-pvdz',\n",
    "                                   multiplicity=1):\n",
    "\n",
    "    # Run electronic structure calculations\n",
    "    molecule = run_pyscf(\n",
    "        openfermion.hamiltonians.MolecularData(\n",
    "            geometry, \n",
    "            basis,\n",
    "            multiplicity\n",
    "        )\n",
    "    )\n",
    "\n",
    "    # Freeze core orbitals and truncate to active space\n",
    "    n_core_orbitals = (molecule.n_electrons - n_active_electrons) // 2\n",
    "    occupied_indices = list(range(n_core_orbitals))\n",
    "    active_indices = list(range(n_core_orbitals,\n",
    "                                n_core_orbitals + n_active_orbitals))\n",
    "    \n",
    "    return molecule.get_molecular_hamiltonian(occupied_indices, active_indices)"
   ]
  },
  {
   "cell_type": "code",
   "execution_count": 4,
   "metadata": {},
   "outputs": [
    {
     "name": "stdout",
     "output_type": "stream",
     "text": [
      "LOADED a variational study with 4 qubits and 16 parameters.\n",
      "-1.0480523474475656\n"
     ]
    }
   ],
   "source": [
    "# Create or load a variational study\n",
    "# ----------------------------------\n",
    "\n",
    "# Set directory to save studies in\n",
    "STUDIES_DIR = 'studies'\n",
    "\n",
    "\n",
    "# Set Hamiltonian parameters\n",
    "geometry_factory = h2_geometry\n",
    "bond_length = 1.4\n",
    "n_active_electrons = 2\n",
    "n_active_orbitals = 2\n",
    "hamiltonian_name = 'H2_cc-pvdz_singlet_1.4_2-2'\n",
    "\n",
    "\n",
    "# Set ansatz parameters\n",
    "ansatz_class = ofc.SwapNetworkTrotterAnsatz\n",
    "iterations = 1\n",
    "ansatz_kwargs = {'include_all_xxyy': True}\n",
    "\n",
    "\n",
    "# Generate Hamiltonian\n",
    "hamiltonian = generate_molecular_hamiltonian(\n",
    "    geometry_factory(bond_length),\n",
    "    n_active_electrons,\n",
    "    n_active_orbitals\n",
    ")\n",
    "\n",
    "\n",
    "# Create or load study\n",
    "study_name = '{}_{}_iterations{}'.format(\n",
    "    hamiltonian_name, ansatz_class.__name__, iterations)\n",
    "\n",
    "if os.path.isfile(os.path.join(STUDIES_DIR, '{}.study'.format(study_name))):\n",
    "    # Load study\n",
    "    study = ofc.VariationalStudy.load(\n",
    "        study_name,\n",
    "        datadir=STUDIES_DIR)\n",
    "    print(\"LOADED a variational study with {} qubits and {} parameters.\".format(\n",
    "        len(study.ansatz.qubits), study.num_params))\n",
    "else:\n",
    "    # Create study\n",
    "    # Generate ansatz and objective\n",
    "    hamiltonian_ferm_op = openfermion.get_fermion_operator(hamiltonian)\n",
    "    ansatz_hamiltonian = openfermion.get_diagonal_coulomb_hamiltonian(\n",
    "        hamiltonian_ferm_op,\n",
    "        ignore_incompatible_terms=True)\n",
    "    ansatz = ansatz_class(\n",
    "        ansatz_hamiltonian,\n",
    "        iterations=iterations,\n",
    "        **ansatz_kwargs)\n",
    "    objective = ofc.HamiltonianObjective(hamiltonian)\n",
    "\n",
    "    # Use preparation circuit for mean-field state\n",
    "    preparation_circuit = cirq.Circuit.from_ops(\n",
    "        ofc.prepare_gaussian_state(\n",
    "            ansatz.qubits,\n",
    "            openfermion.QuadraticHamiltonian(ansatz_hamiltonian.one_body),\n",
    "            occupied_orbitals=range(n_active_electrons)))\n",
    "\n",
    "    study = ofc.VariationalStudy(\n",
    "        study_name,\n",
    "        ansatz,\n",
    "        objective,\n",
    "        preparation_circuit=preparation_circuit,\n",
    "        datadir=STUDIES_DIR)\n",
    "    print(\"CREATED a variational study with {} qubits and {} parameters.\".format(\n",
    "        len(study.ansatz.qubits), study.num_params))\n",
    "    \n",
    "hamiltonian_sparse = openfermion.get_sparse_operator(study.objective.hamiltonian)\n",
    "energy, _ = openfermion.get_ground_state(hamiltonian_sparse)\n",
    "\n",
    "target = energy\n",
    "print(target)"
   ]
  },
  {
   "cell_type": "code",
   "execution_count": 70,
   "metadata": {},
   "outputs": [],
   "source": [
    "def optimal_value(df):\n",
    "    return min(get_col(df,33))\n",
    "\n",
    "def absolute_error(fvalue):\n",
    "    global target\n",
    "    return np.abs(fvalue - target)\n",
    "\n",
    "    \n",
    "def gen_plot(x,y):\n",
    "    fig = pylab.figure(figsize=(6,3))\n",
    "#     pylab.subplot(1,2,1)\n",
    "    pylab.plot(x,y, 'ro')\n",
    "    \n",
    "def get_col(df, num):\n",
    "    if num<17:\n",
    "        name = \"init\" + str(num)\n",
    "    elif num>16 and num<33:\n",
    "        name = \"fin\" + str(num-16)\n",
    "    elif num==33:\n",
    "        name = \"fvalues\"\n",
    "    elif num==34:\n",
    "        name = \"iters\"\n",
    "    return df[name]\n",
    "    \n",
    "def inner_iters():\n",
    "    x = np.array([1,2,3])\n",
    "    return np.tile(x,10).tolist()\n",
    "    \n",
    "def errors(df):\n",
    "    return [absolute_error(y) for y in get_col(df,33)]\n",
    "\n",
    "\n",
    "def relative_errors(df):\n",
    "    minim = optimal_value(df)\n",
    "    return [np.abs(minim-y) for y in get_col(df,33)]\n",
    "    \n",
    "    \n",
    "def gen_error_plot(df):\n",
    "#     pylab.subplot(1,2,1)\n",
    "    gen_plot(inner_iters(),relative_errors(df))\n",
    "    pylab.ylabel('Error')\n",
    "    pylab.xlabel('External iteration')\n",
    "    pylab.title('Error varying by external iterations')\n",
    "    \n",
    "#     pylab.subplot(1,2,2)\n",
    "    gen_plot(get_col(df,34),relative_errors(df))\n",
    "    pylab.ylabel('Error')\n",
    "    pylab.xlabel('Calls to objective function')\n",
    "    pylab.title('Error varying by general num of iterations')\n",
    "\n",
    "    \n",
    "def gen_fvalue_vs_iters(df):\n",
    "    gen_plot(get_col(df,34),get_col(df,33))\n",
    "    pylab.xlabel('Iteration')\n",
    "    pylab.ylabel('Function values')\n",
    "    pylab.title('Function values varying by number of iterations')\n",
    "    \n",
    "def gen_fvalue_vs_params(df, ncols):\n",
    "    fig = pylab.figure(figsize=(18,3))\n",
    "    for x in ncols:\n",
    "        pylab.subplot(130+ncols.index(x)+1)\n",
    "        pylab.plot(get_col(df,x),get_col(df,33), 'ro')\n",
    "        pylab.xlabel('Parameter ' + str(x))\n",
    "        pylab.ylabel('Function values')\n",
    "        pylab.title('Function values versus param ' + str(x))\n",
    " \n",
    "                \n",
    "        \n",
    "def n_high_correlation(df,num):\n",
    "    n=num\n",
    "    ret = []\n",
    "    while n > 0:\n",
    "        corr = [np.std(get_col(df,i)) \\\n",
    "                for i in range(17,len(df.columns)-2)\\\n",
    "                if i not in ret]\n",
    "        ind = corr.index(min(corr))+17\n",
    "        ret.append(ind)\n",
    "              \n",
    "        n -= 1\n",
    "    return ret\n",
    "    \n",
    "                \n",
    "def display_data(filename, nparams):\n",
    "    df = pd.read_csv(filename)\n",
    "    \n",
    "    ncols = n_high_correlation(df, nparams)\n",
    "    print(ncols)\n",
    "    gen_fvalue_vs_params(df, ncols)\n",
    "        \n",
    "    gen_fvalue_vs_iters(df)\n",
    "    \n",
    "    gen_error_plot(df)\n",
    "    "
   ]
  },
  {
   "cell_type": "code",
   "execution_count": 71,
   "metadata": {},
   "outputs": [
    {
     "name": "stdout",
     "output_type": "stream",
     "text": [
      "[17, 27, 26]\n"
     ]
    },
    {
     "data": {
      "image/png": "[encoded data removed]",
      "text/plain": [
       "<Figure size 1296x216 with 3 Axes>"
      ]
     },
     "metadata": {},
     "output_type": "display_data"
    },
    {
     "data": {
      "image/png": "[encoded data removed]",
      "text/plain": [
       "<Figure size 432x216 with 1 Axes>"
      ]
     },
     "metadata": {},
     "output_type": "display_data"
    },
    {
     "data": {
      "image/png": "[encoded data removed]",
      "text/plain": [
       "<Figure size 432x216 with 1 Axes>"
      ]
     },
     "metadata": {},
     "output_type": "display_data"
    },
    {
     "data": {
      "image/png": "[encoded data removed]",
      "text/plain": [
       "<Figure size 432x216 with 1 Axes>"
      ]
     },
     "metadata": {},
     "output_type": "display_data"
    }
   ],
   "source": [
    "display_data('imfil/16_params_out.csv', 3)"
   ]
  },
  {
   "cell_type": "code",
   "execution_count": null,
   "metadata": {},
   "outputs": [],
   "source": []
  },
  {
   "cell_type": "code",
   "execution_count": null,
   "metadata": {},
   "outputs": [],
   "source": []
  }
 ],
 "metadata": {
  "kernelspec": {
   "display_name": "Python 3",
   "language": "python",
   "name": "python3"
  },
  "language_info": {
   "codemirror_mode": {
    "name": "ipython",
    "version": 3
   },
   "file_extension": ".py",
   "mimetype": "text/x-python",
   "name": "python",
   "nbconvert_exporter": "python",
   "pygments_lexer": "ipython3",
   "version": "3.6.5"
  }
 },
 "nbformat": 4,
 "nbformat_minor": 2
}
